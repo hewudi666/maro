{
 "cells": [
  {
   "cell_type": "markdown",
   "metadata": {},
   "source": [
    "# Quick Start\n",
    "\n",
    "Below is a sample demo of interaction with the environment."
   ]
  },
  {
   "cell_type": "markdown",
   "metadata": {},
   "source": [
    "## Build environment & get static information from the environment\n",
    "\n",
    "Build an environment and show facilities & units in this environment. Demo configuration file path: https://github.com/microsoft/maro/tree/master/maro/simulator/scenarios/supply_chain/topologies/example/config.yml\n",
    "\n",
    "Here is a illustration of this example \"world\":\n",
    "![Illustration of the world](img/example_world.png)"
   ]
  },
  {
   "cell_type": "code",
   "execution_count": 1,
   "metadata": {},
   "outputs": [],
   "source": [
    "# import necessary packages\n",
    "import numpy as np\n",
    "from pprint import pprint"
   ]
  },
  {
   "cell_type": "code",
   "execution_count": 2,
   "metadata": {},
   "outputs": [],
   "source": [
    "from maro.simulator import Env\n",
    "\n",
    "# Initialize an Env for Supply Chain scenario. \n",
    "env = Env(scenario=\"supply_chain\", topology=\"example\", start_tick=0, durations=100)"
   ]
  },
  {
   "cell_type": "code",
   "execution_count": 3,
   "metadata": {},
   "outputs": [
    {
     "name": "stdout",
     "output_type": "stream",
     "text": [
      "{'Supplier_001': 1, 'Supplier_002': 8, 'Warehouse_001': 17, 'Retailer_001': 28}\n"
     ]
    }
   ],
   "source": [
    "print(env._business_engine.world._facility_name2id_mapping)"
   ]
  },
  {
   "cell_type": "markdown",
   "metadata": {},
   "source": [
    "`env.summary` contains rich static information about the environment. For future convenience, we first parse `env.summary` to make two \"name-id\" mappings for facilities and units, so that we could acquire an entity's id through its name."
   ]
  },
  {
   "cell_type": "code",
   "execution_count": 4,
   "metadata": {},
   "outputs": [
    {
     "name": "stdout",
     "output_type": "stream",
     "text": [
      "*** Facility name-id mapping ***\n",
      "{'Retailer_001': 28, 'Supplier_001': 1, 'Supplier_002': 8, 'Warehouse_001': 17}\n",
      "\n",
      "*** Unit name-id mapping ***\n",
      "{'Retailer_001__consumer1': 31,\n",
      " 'Retailer_001__consumer2': 37,\n",
      " 'Retailer_001__consumer3': 34,\n",
      " 'Retailer_001__products1': 30,\n",
      " 'Retailer_001__products2': 36,\n",
      " 'Retailer_001__products3': 33,\n",
      " 'Retailer_001__seller1': 32,\n",
      " 'Retailer_001__seller2': 38,\n",
      " 'Retailer_001__seller3': 35,\n",
      " 'Retailer_001__storage': 29,\n",
      " 'Supplier_001__distribution': 3,\n",
      " 'Supplier_001__manufacture3': 7,\n",
      " 'Supplier_001__products3': 6,\n",
      " 'Supplier_001__storage': 2,\n",
      " 'Supplier_002__distribution': 10,\n",
      " 'Supplier_002__manufacture1': 14,\n",
      " 'Supplier_002__manufacture2': 16,\n",
      " 'Supplier_002__products1': 13,\n",
      " 'Supplier_002__products2': 15,\n",
      " 'Supplier_002__storage': 9,\n",
      " 'Warehouse_001__consumer1': 23,\n",
      " 'Warehouse_001__consumer2': 25,\n",
      " 'Warehouse_001__consumer3': 27,\n",
      " 'Warehouse_001__distribution': 19,\n",
      " 'Warehouse_001__products1': 22,\n",
      " 'Warehouse_001__products2': 24,\n",
      " 'Warehouse_001__products3': 26,\n",
      " 'Warehouse_001__storage': 18}\n"
     ]
    }
   ],
   "source": [
    "from example_utils import get_facility_name2id_mapping, get_unit_name2id_mapping\n",
    "\n",
    "facility_name2id = get_facility_name2id_mapping(env)\n",
    "unit_name2id = get_unit_name2id_mapping(env)\n",
    "\n",
    "print(\"*** Facility name-id mapping ***\")\n",
    "pprint(facility_name2id)\n",
    "print()\n",
    "print(\"*** Unit name-id mapping ***\")\n",
    "pprint(unit_name2id)"
   ]
  },
  {
   "cell_type": "markdown",
   "metadata": {},
   "source": [
    "## Get dynamic information from the environment"
   ]
  },
  {
   "cell_type": "code",
   "execution_count": 5,
   "metadata": {},
   "outputs": [
    {
     "name": "stdout",
     "output_type": "stream",
     "text": [
      "*** Env status after tick 0 ***\n",
      "  Storage summary:\n",
      "    [Facility]      [remain] / [capacity]\n",
      "    Supplier_001        9900 /      10000\n",
      "    Supplier_002        9800 /      10000\n",
      "    Warehouse_001      27000 /      30000\n",
      "    Retailer_001       17880 /      20000\n",
      "  Storage detail:\n",
      "    [Facility]       [sku1] [sku2] [sku3]\n",
      "    Supplier_001          0      0    100\n",
      "    Supplier_002        100    100      0\n",
      "    Warehouse_001      1000   1000   1000\n",
      "    Retailer_001        698    702    720\n",
      "  Manufacture status:\n",
      "    [Facility]      \n",
      "    Supplier_001    sku_id = 3, manufacturing = 0, unit cost = 1\n",
      "    Supplier_002    sku_id = 1, manufacturing = 0, unit cost = 1\n",
      "    Supplier_002    sku_id = 2, manufacturing = 0, unit cost = 0\n"
     ]
    }
   ],
   "source": [
    "# Import helper function for showing environment status from example_utils.py\n",
    "# This helper function is just to make the output of this notebook more beautiful. \n",
    "# You can design the format of the information display according to your own preferences.\n",
    "from example_utils import show_status\n",
    "\n",
    "env.step(None)  # Tick 0. Activate the enviornment, do not send any action\n",
    "show_status(env)"
   ]
  },
  {
   "cell_type": "markdown",
   "metadata": {},
   "source": [
    "According to the configuration, there might be initial stock in storage, so the remaining space might **NOT** be equal to the total capacity at the beginning. For example, `Warehouse_001` contains 1000 initial stock for each SKU, so the gap between the remaining space and the total capacity is 1000\\*3=3000.\n",
    "\n",
    "The number of products and remaining space of `Retailer_001` is a random number and you may get different results **with different random seeds**. That is because the initial stocks in `Retailer_001` are read from the topology configuration and therefore are fixed, but some of the stocks will be sold in the first tick according to the demand sampled from a Gamma distribution. In other words, the number of sold products is a random variable, so the remaining stock and the remaining space therefore is also random.\n",
    "\n",
    "Since we have not sent any manufacturing action to the environment, the manufacturing number of all facilities should be zero."
   ]
  },
  {
   "cell_type": "markdown",
   "metadata": {},
   "source": [
    "## Send actions to the environment\n",
    "\n",
    "Actions in the Supply Chain scenario are simple. There are only two types of actions: `ManufactureAction` and `ConsumerAction`. `ManufactureAction` refers to the instruction for the facility to start production, and `ConsumerAction` refers to the action that one facility purchases some SKUs from other facilities."
   ]
  },
  {
   "cell_type": "markdown",
   "metadata": {},
   "source": [
    "### Manufacture action\n",
    "\n",
    "Let `Supplier_001` produce 1000 products of SKU 3. The remaining space of `Supplier_001` after executing this action should be 9900-1000=8900, and the number of SKU 3 becomes 100+1000=1100. In addition, the manufacturing number of `Supplier_001 ~ SKU 3` is 1000.\n",
    "\n",
    "There is not production speed limit for facilities, so the production will be done within this tick. \n",
    "\n",
    "We could notice that the remaining stock after the first tick and the second tick are different, because sales are happening all the time, so the remaining stock will change accordingly in every tick. You will see similar situations in the following ticks."
   ]
  },
  {
   "cell_type": "code",
   "execution_count": 6,
   "metadata": {},
   "outputs": [
    {
     "name": "stdout",
     "output_type": "stream",
     "text": [
      "*** Env status after tick 1 ***\n",
      "  Storage summary:\n",
      "    [Facility]      [remain] / [capacity]\n",
      "    Supplier_001        8900 /      10000\n",
      "    Supplier_002        9800 /      10000\n",
      "    Warehouse_001      27000 /      30000\n",
      "    Retailer_001       18182 /      20000\n",
      "  Storage detail:\n",
      "    [Facility]       [sku1] [sku2] [sku3]\n",
      "    Supplier_001          0      0   1100\n",
      "    Supplier_002        100    100      0\n",
      "    Warehouse_001      1000   1000   1000\n",
      "    Retailer_001        597    596    625\n",
      "  Manufacture status:\n",
      "    [Facility]      \n",
      "    Supplier_001    sku_id = 3, manufacturing = 1000, unit cost = 1\n",
      "    Supplier_002    sku_id = 1, manufacturing = 0, unit cost = 1\n",
      "    Supplier_002    sku_id = 2, manufacturing = 0, unit cost = 0\n"
     ]
    }
   ],
   "source": [
    "from maro.simulator.scenarios.supply_chain import ManufactureAction\n",
    "action = ManufactureAction(id=unit_name2id[\"Supplier_001__manufacture3\"], production_rate=1000)  # Supplier_001 produces 1000 products of SKU 3\n",
    "env.step([action])  # Tick 1\n",
    "show_status(env)"
   ]
  },
  {
   "cell_type": "markdown",
   "metadata": {},
   "source": [
    "Then let `Supplier_001` produce 9000 products of SKU 3. This time, however, `Supplier_001` does not have enough remaining space, so only 8900 products are produced."
   ]
  },
  {
   "cell_type": "code",
   "execution_count": 7,
   "metadata": {},
   "outputs": [
    {
     "name": "stdout",
     "output_type": "stream",
     "text": [
      "*** Env status after tick 2 ***\n",
      "  Storage summary:\n",
      "    [Facility]      [remain] / [capacity]\n",
      "    Supplier_001           0 /      10000\n",
      "    Supplier_002        9800 /      10000\n",
      "    Warehouse_001      27000 /      30000\n",
      "    Retailer_001       18467 /      20000\n",
      "  Storage detail:\n",
      "    [Facility]       [sku1] [sku2] [sku3]\n",
      "    Supplier_001          0      0  10000\n",
      "    Supplier_002        100    100      0\n",
      "    Warehouse_001      1000   1000   1000\n",
      "    Retailer_001        510    495    528\n",
      "  Manufacture status:\n",
      "    [Facility]      \n",
      "    Supplier_001    sku_id = 3, manufacturing = 8900, unit cost = 1\n",
      "    Supplier_002    sku_id = 1, manufacturing = 0, unit cost = 1\n",
      "    Supplier_002    sku_id = 2, manufacturing = 0, unit cost = 0\n"
     ]
    }
   ],
   "source": [
    "action = ManufactureAction(id=unit_name2id[\"Supplier_001__manufacture3\"], production_rate=9000)  # Supplier_001 produces 9000 products of SKU 3\n",
    "env.step([action])  # Tick 2\n",
    "show_status(env)"
   ]
  },
  {
   "cell_type": "markdown",
   "metadata": {},
   "source": [
    "Now we let `Supplier_002` produce 7000 products of SKU 1. However, as we can see in the environment status after tick 3, the increment of SKU 1 is 4900, not the 7000 we expected. This is because there is a hidden limitation for supplier storage: **if a supplier could produce multiple types of product, each type of product will share the storage space evenly**. `Supplier_002` could produce SKU 1 and SKU 2, so each type of product could only use half of the storage space, which is 10000/2=5000. Therefore, we could produce SKU 1 up to 5000 even if there is spare storage space."
   ]
  },
  {
   "cell_type": "code",
   "execution_count": 8,
   "metadata": {},
   "outputs": [
    {
     "name": "stdout",
     "output_type": "stream",
     "text": [
      "*** Env status after tick 3 ***\n",
      "  Storage summary:\n",
      "    [Facility]      [remain] / [capacity]\n",
      "    Supplier_001           0 /      10000\n",
      "    Supplier_002        4900 /      10000\n",
      "    Warehouse_001      27000 /      30000\n",
      "    Retailer_001       18769 /      20000\n",
      "  Storage detail:\n",
      "    [Facility]       [sku1] [sku2] [sku3]\n",
      "    Supplier_001          0      0  10000\n",
      "    Supplier_002       5000    100      0\n",
      "    Warehouse_001      1000   1000   1000\n",
      "    Retailer_001        403    395    433\n",
      "  Manufacture status:\n",
      "    [Facility]      \n",
      "    Supplier_001    sku_id = 3, manufacturing = 0, unit cost = 1\n",
      "    Supplier_002    sku_id = 1, manufacturing = 4900, unit cost = 1\n",
      "    Supplier_002    sku_id = 2, manufacturing = 0, unit cost = 0\n"
     ]
    }
   ],
   "source": [
    "action = ManufactureAction(id=unit_name2id[\"Supplier_002__manufacture1\"], production_rate=7000)  # Supplier_002 produces 7000 products of SKU 1\n",
    "env.step([action])  # tick 3\n",
    "show_status(env)"
   ]
  },
  {
   "cell_type": "markdown",
   "metadata": {},
   "source": [
    "### Consumer action\n",
    "\n",
    "We now try to send 8000 products of SKU 3 from `Supplier_001` to `Warehouse_001`. The production number of SKU 3 in `Supplier_001` has not been changed in tick 4 because the `ConsumerAction` will NOT be activated immediately. Instead, it will be activated in the next tick."
   ]
  },
  {
   "cell_type": "code",
   "execution_count": 9,
   "metadata": {},
   "outputs": [
    {
     "name": "stdout",
     "output_type": "stream",
     "text": [
      "*** Env status after tick 4 ***\n",
      "  Storage summary:\n",
      "    [Facility]      [remain] / [capacity]\n",
      "    Supplier_001           0 /      10000\n",
      "    Supplier_002        4900 /      10000\n",
      "    Warehouse_001      27000 /      30000\n",
      "    Retailer_001       19064 /      20000\n",
      "  Storage detail:\n",
      "    [Facility]       [sku1] [sku2] [sku3]\n",
      "    Supplier_001          0      0  10000\n",
      "    Supplier_002       5000    100      0\n",
      "    Warehouse_001      1000   1000   1000\n",
      "    Retailer_001        307    295    334\n",
      "  Manufacture status:\n",
      "    [Facility]      \n",
      "    Supplier_001    sku_id = 3, manufacturing = 0, unit cost = 1\n",
      "    Supplier_002    sku_id = 1, manufacturing = 0, unit cost = 1\n",
      "    Supplier_002    sku_id = 2, manufacturing = 0, unit cost = 0\n"
     ]
    }
   ],
   "source": [
    "from maro.simulator.scenarios.supply_chain import ConsumerAction\n",
    "action = ConsumerAction(id=unit_name2id[\"Warehouse_001__consumer3\"], product_id=3, source_id=facility_name2id[\"Supplier_001\"], \n",
    "                        quantity=8000, \n",
    "                        vlt=4,  # Velocity of the vehicle. \n",
    "                                # The number of steps of the vehicle will be automatically calculated according to vlt and path length.\n",
    "                                # In the current case, it is 12 / 4 = 3 steps.\n",
    "                        reward_discount=0)\n",
    "env.step([action])  # Tick 4\n",
    "show_status(env)"
   ]
  },
  {
   "cell_type": "markdown",
   "metadata": {},
   "source": [
    "The `ConsumerAction` is activated in tick 5. `Supplier_001` assigns the order to one vehicle, the vehicle hence loads 8000 products in tick 5, so we can see the product number of SKU 3 in `Supplier_001` decreases by 8000. Then, the vehicle shall take its first step at tick 6. Since the expected number of arrival ticks is 3, this order should arrive after tick 8 (ticks on road: tick 6, tick 7, and tick 8)."
   ]
  },
  {
   "cell_type": "code",
   "execution_count": 10,
   "metadata": {},
   "outputs": [
    {
     "name": "stdout",
     "output_type": "stream",
     "text": [
      "*** Env status after tick 5 ***\n",
      "  Storage summary:\n",
      "    [Facility]      [remain] / [capacity]\n",
      "    Supplier_001        8000 /      10000\n",
      "    Supplier_002        4900 /      10000\n",
      "    Warehouse_001      27000 /      30000\n",
      "    Retailer_001       19394 /      20000\n",
      "  Storage detail:\n",
      "    [Facility]       [sku1] [sku2] [sku3]\n",
      "    Supplier_001          0      0   2000\n",
      "    Supplier_002       5000    100      0\n",
      "    Warehouse_001      1000   1000   1000\n",
      "    Retailer_001        194    179    233\n",
      "  Manufacture status:\n",
      "    [Facility]      \n",
      "    Supplier_001    sku_id = 3, manufacturing = 0, unit cost = 1\n",
      "    Supplier_002    sku_id = 1, manufacturing = 0, unit cost = 1\n",
      "    Supplier_002    sku_id = 2, manufacturing = 0, unit cost = 0\n"
     ]
    }
   ],
   "source": [
    "env.step(None)  # Tick 5\n",
    "show_status(env)"
   ]
  },
  {
   "cell_type": "markdown",
   "metadata": {},
   "source": [
    "Transition status can be found in `env.metrics`."
   ]
  },
  {
   "cell_type": "code",
   "execution_count": 11,
   "metadata": {},
   "outputs": [
    {
     "name": "stdout",
     "output_type": "stream",
     "text": [
      "*** Incoming order summary of Warehouse_001 after tick 5 ***\n",
      "Incoming number of SKU 1: 0\n",
      "Incoming number of SKU 2: 0\n",
      "Incoming number of SKU 3: 8000\n",
      "Number of SKU 3 products arrive UID_W001_PROD3 in 1 days: 0\n",
      "Number of SKU 3 products arrive UID_W001_PROD3 in 2 days: 0\n",
      "Number of SKU 3 products arrive UID_W001_PROD3 in 3 days: 8000\n",
      "Number of SKU 3 products arrive UID_W001_PROD3 in 4 days: 0\n"
     ]
    }
   ],
   "source": [
    "# Helper function\n",
    "def show_warehouse_001_incoming_orders() -> None:\n",
    "    # Incoming orders of Warehouse_001 by SKU\n",
    "    print(f\"*** Incoming order summary of Warehouse_001 after tick {env.tick} ***\")\n",
    "    pending_order = env.metrics[\"facilities\"][facility_name2id[\"Warehouse_001\"]][\"in_transit_orders\"]\n",
    "    for sku_id, nproduct in pending_order.items():\n",
    "        print(f\"Incoming number of SKU {sku_id}: {nproduct}\")\n",
    "\n",
    "    # Incoming SKU 3 orders of Warehouse_001 by day\n",
    "    pending_order_daily = env.metrics[\"products\"][unit_name2id[\"Warehouse_001__products3\"]][\"pending_order_daily\"].tolist()\n",
    "    for day, nproduct in enumerate(pending_order_daily, 1):\n",
    "        print(f\"Number of SKU 3 products arrive UID_W001_PROD3 in {day} days: {nproduct}\")\n",
    "\n",
    "show_warehouse_001_incoming_orders()"
   ]
  },
  {
   "cell_type": "markdown",
   "metadata": {},
   "source": [
    "We run an empty tick (do not execute any action), and then we can see the change of daily pending orders."
   ]
  },
  {
   "cell_type": "code",
   "execution_count": 12,
   "metadata": {},
   "outputs": [
    {
     "name": "stdout",
     "output_type": "stream",
     "text": [
      "*** Incoming order summary of Warehouse_001 after tick 6 ***\n",
      "Incoming number of SKU 1: 0\n",
      "Incoming number of SKU 2: 0\n",
      "Incoming number of SKU 3: 8000\n",
      "Number of SKU 3 products arrive UID_W001_PROD3 in 1 days: 0\n",
      "Number of SKU 3 products arrive UID_W001_PROD3 in 2 days: 8000\n",
      "Number of SKU 3 products arrive UID_W001_PROD3 in 3 days: 0\n",
      "Number of SKU 3 products arrive UID_W001_PROD3 in 4 days: 0\n"
     ]
    }
   ],
   "source": [
    "env.step(None)  # Tick 6\n",
    "show_warehouse_001_incoming_orders()"
   ]
  },
  {
   "cell_type": "markdown",
   "metadata": {},
   "source": [
    "After tick 8, the daily pending orders of `Warehouse_001` are cleared, but the storage of `Warehouse_001` has not been changed. This is because the vehicle needs one extra tick to unload products."
   ]
  },
  {
   "cell_type": "code",
   "execution_count": 13,
   "metadata": {},
   "outputs": [
    {
     "name": "stdout",
     "output_type": "stream",
     "text": [
      "*** Env status after tick 8 ***\n",
      "  Storage summary:\n",
      "    [Facility]      [remain] / [capacity]\n",
      "    Supplier_001        8000 /      10000\n",
      "    Supplier_002        4900 /      10000\n",
      "    Warehouse_001      27000 /      30000\n",
      "    Retailer_001       20000 /      20000\n",
      "  Storage detail:\n",
      "    [Facility]       [sku1] [sku2] [sku3]\n",
      "    Supplier_001          0      0   2000\n",
      "    Supplier_002       5000    100      0\n",
      "    Warehouse_001      1000   1000   1000\n",
      "    Retailer_001          0      0      0\n",
      "  Manufacture status:\n",
      "    [Facility]      \n",
      "    Supplier_001    sku_id = 3, manufacturing = 0, unit cost = 1\n",
      "    Supplier_002    sku_id = 1, manufacturing = 0, unit cost = 1\n",
      "    Supplier_002    sku_id = 2, manufacturing = 0, unit cost = 0\n",
      "\n",
      "*** Incoming order summary of Warehouse_001 after tick 8 ***\n",
      "Incoming number of SKU 1: 0\n",
      "Incoming number of SKU 2: 0\n",
      "Incoming number of SKU 3: 8000\n",
      "Number of SKU 3 products arrive UID_W001_PROD3 in 1 days: 0\n",
      "Number of SKU 3 products arrive UID_W001_PROD3 in 2 days: 0\n",
      "Number of SKU 3 products arrive UID_W001_PROD3 in 3 days: 0\n",
      "Number of SKU 3 products arrive UID_W001_PROD3 in 4 days: 0\n"
     ]
    }
   ],
   "source": [
    "env.step(None)  # Tick 7\n",
    "env.step(None)  # Tick 8\n",
    "show_status(env)\n",
    "print()\n",
    "show_warehouse_001_incoming_orders()"
   ]
  },
  {
   "cell_type": "markdown",
   "metadata": {},
   "source": [
    "After tick 9, the number of products of SKU 3 in `Warehouse_001` becomes 1000+8000=9000. Once the unloading is done, the vehicle will return to the source facility within the same tick (in this case, within tick 9). In other words, we omit the time consumption of the return trip."
   ]
  },
  {
   "cell_type": "code",
   "execution_count": 14,
   "metadata": {},
   "outputs": [
    {
     "name": "stdout",
     "output_type": "stream",
     "text": [
      "*** Env status after tick 9 ***\n",
      "  Storage summary:\n",
      "    [Facility]      [remain] / [capacity]\n",
      "    Supplier_001        8000 /      10000\n",
      "    Supplier_002        4900 /      10000\n",
      "    Warehouse_001      19000 /      30000\n",
      "    Retailer_001       20000 /      20000\n",
      "  Storage detail:\n",
      "    [Facility]       [sku1] [sku2] [sku3]\n",
      "    Supplier_001          0      0   2000\n",
      "    Supplier_002       5000    100      0\n",
      "    Warehouse_001      1000   1000   9000\n",
      "    Retailer_001          0      0      0\n",
      "  Manufacture status:\n",
      "    [Facility]      \n",
      "    Supplier_001    sku_id = 3, manufacturing = 0, unit cost = 1\n",
      "    Supplier_002    sku_id = 1, manufacturing = 0, unit cost = 1\n",
      "    Supplier_002    sku_id = 2, manufacturing = 0, unit cost = 0\n"
     ]
    }
   ],
   "source": [
    "env.step(None)  # Tick 9\n",
    "show_status(env)"
   ]
  },
  {
   "cell_type": "markdown",
   "metadata": {},
   "source": [
    "In the above example, there are no obstacles to the transportation of the order. The actual situation might be much more complicated, for example:\n",
    "- The product in the source facility is insufficient.\n",
    "- The remaining storage space of the target facility is insufficient.\n",
    "- There are no available vehicles in the source facility.\n",
    "\n",
    "You could mock several actions to trigger these situations and see what will happen. Make your hands dirty and enjoy :)"
   ]
  },
  {
   "cell_type": "markdown",
   "metadata": {},
   "source": [
    "## Break the black box\n",
    "\n",
    "As we have mentioned, `env.summary`, `env.snapshot_list`, and `env.metrics` contain pretty rich information about the environment. Due to the limitation of this notebook, we cannot go through every detail and you may explore what else you can find on your own. If there is still other information you need that cannot be got from these interfaces, you can always \"hack\" into the `env.business_engine.world` and get the facilities/units by calling `get_entity()`. Then, you can directly access, or even control these facilities/units."
   ]
  },
  {
   "cell_type": "code",
   "execution_count": 15,
   "metadata": {},
   "outputs": [
    {
     "name": "stdout",
     "output_type": "stream",
     "text": [
      "{'facility_distribution': <maro.simulator.scenarios.supply_chain.units.distribution.DistributionUnit object at 0x000001EEAADD7B48>,\n",
      " 'facility_id': 1,\n",
      " 'facility_location': (0, 0),\n",
      " 'facility_name': 'Supplier_001',\n",
      " 'facility_products': {3: <maro.simulator.scenarios.supply_chain.units.product.ProductUnit object at 0x000001EEBA85F648>},\n",
      " 'facility_storage': <maro.simulator.scenarios.supply_chain.units.storage.StorageUnit object at 0x000001EEBA84FD48>}\n"
     ]
    }
   ],
   "source": [
    "supplier_001 = env.business_engine.world.get_entity(facility_name2id[\"Supplier_001\"])\n",
    "pprint({\n",
    "    \"facility_id\": supplier_001.id,\n",
    "    \"facility_name\": supplier_001.name,\n",
    "    \"facility_products\": supplier_001.products,\n",
    "    \"facility_storage\": supplier_001.storage,\n",
    "    \"facility_distribution\": supplier_001.distribution,\n",
    "    \"facility_location\": (supplier_001.x, supplier_001.y)\n",
    "})"
   ]
  }
 ],
 "metadata": {
  "kernelspec": {
   "display_name": "Python 3 (ipykernel)",
   "language": "python",
   "name": "python3"
  },
  "language_info": {
   "codemirror_mode": {
    "name": "ipython",
    "version": 3
   },
   "file_extension": ".py",
   "mimetype": "text/x-python",
   "name": "python",
   "nbconvert_exporter": "python",
   "pygments_lexer": "ipython3",
   "version": "3.7.10"
  }
 },
 "nbformat": 4,
 "nbformat_minor": 2
}
